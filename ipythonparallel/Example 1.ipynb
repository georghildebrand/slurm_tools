{
 "cells": [
  {
   "cell_type": "markdown",
   "metadata": {},
   "source": [
    "Example form this site:\n",
    "https://ipython.org/ipython-doc/2/parallel/parallel_demos.html\n",
    "\n",
    "In this section we describe two more involved examples of using an IPython cluster to perform a parallel computation. We will be doing some plotting, so we start IPython with matplotlib integration by typing:\n",
    "\n",
    "download a needed file from:\n",
    "https://github.com/ipython/ipython-py3k/blob/master/docs/examples/newparallel/pidigits.py"
   ]
  },
  {
   "cell_type": "code",
   "execution_count": 5,
   "metadata": {
    "collapsed": false
   },
   "outputs": [],
   "source": [
    "from IPython.parallel import Client\n"
   ]
  },
  {
   "cell_type": "code",
   "execution_count": 6,
   "metadata": {
    "collapsed": true
   },
   "outputs": [],
   "source": [
    "c = Client(profile='slurm')"
   ]
  },
  {
   "cell_type": "code",
   "execution_count": 9,
   "metadata": {
    "collapsed": false
   },
   "outputs": [
    {
     "data": {
      "text/plain": [
       "[0, 1, 2, 3, 4]"
      ]
     },
     "execution_count": 9,
     "metadata": {},
     "output_type": "execute_result"
    }
   ],
   "source": [
    "v = c[:]\n",
    "c.ids"
   ]
  },
  {
   "cell_type": "markdown",
   "metadata": {},
   "source": [
    "Download  a helper file"
   ]
  },
  {
   "cell_type": "code",
   "execution_count": 18,
   "metadata": {
    "collapsed": false
   },
   "outputs": [
    {
     "name": "stderr",
     "output_type": "stream",
     "text": [
      "--2016-03-22 15:45:43--  https://raw.githubusercontent.com/ipython/ipython-py3k/master/docs/examples/newparallel/pidigits.py\n",
      "Resolving raw.githubusercontent.com (raw.githubusercontent.com)... 185.31.17.133\n",
      "Connecting to raw.githubusercontent.com (raw.githubusercontent.com)|185.31.17.133|:443... connected.\n",
      "HTTP request sent, awaiting response... 200 OK\n",
      "Length: 4135 (4,0K) [text/plain]\n",
      "Saving to: `pidigits.py'\n",
      "\n",
      "     0K ....                                                  100%  647M=0s\n",
      "\n",
      "2016-03-22 15:45:43 (647 MB/s) - `pidigits.py' saved [4135/4135]\n",
      "\n"
     ]
    }
   ],
   "source": [
    "%%bash \n",
    "wget https://raw.githubusercontent.com/ipython/ipython-py3k/master/docs/examples/newparallel/pidigits.py"
   ]
  },
  {
   "cell_type": "code",
   "execution_count": 19,
   "metadata": {
    "collapsed": false
   },
   "outputs": [],
   "source": [
    "# init content of the downloaded file\n",
    "run pidigits.py"
   ]
  },
  {
   "cell_type": "code",
   "execution_count": 20,
   "metadata": {
    "collapsed": true
   },
   "outputs": [],
   "source": [
    "filestring = 'pi200m.ascii.%(i)02dof20'"
   ]
  },
  {
   "cell_type": "code",
   "execution_count": 24,
   "metadata": {
    "collapsed": false
   },
   "outputs": [
    {
     "data": {
      "text/plain": [
       "['pi200m.ascii.00of20',\n",
       " 'pi200m.ascii.01of20',\n",
       " 'pi200m.ascii.02of20',\n",
       " 'pi200m.ascii.03of20',\n",
       " 'pi200m.ascii.04of20']"
      ]
     },
     "execution_count": 24,
     "metadata": {},
     "output_type": "execute_result"
    }
   ],
   "source": [
    "files = [filestring % {'i':i} for i in range(len(c.ids))]\n",
    "files"
   ]
  },
  {
   "cell_type": "code",
   "execution_count": 25,
   "metadata": {
    "collapsed": false
   },
   "outputs": [
    {
     "data": {
      "text/plain": [
       "<AsyncMapResult: fetch_pi_file>"
      ]
     },
     "execution_count": 25,
     "metadata": {},
     "output_type": "execute_result"
    }
   ],
   "source": [
    "v.map(fetch_pi_file, files)"
   ]
  },
  {
   "cell_type": "code",
   "execution_count": null,
   "metadata": {
    "collapsed": true
   },
   "outputs": [],
   "source": [
    "# This is the parallel calculation using the Client.map method\n",
    "# which applies compute_two_digit_freqs to each file in files in parallel"
   ]
  }
 ],
 "metadata": {
  "kernelspec": {
   "display_name": "Python 2",
   "language": "python",
   "name": "python2"
  },
  "language_info": {
   "codemirror_mode": {
    "name": "ipython",
    "version": 2
   },
   "file_extension": ".py",
   "mimetype": "text/x-python",
   "name": "python",
   "nbconvert_exporter": "python",
   "pygments_lexer": "ipython2",
   "version": "2.7.11"
  }
 },
 "nbformat": 4,
 "nbformat_minor": 0
}
